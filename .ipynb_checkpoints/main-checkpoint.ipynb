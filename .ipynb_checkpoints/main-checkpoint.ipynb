{
 "cells": [
  {
   "cell_type": "markdown",
   "id": "cdbd4c16",
   "metadata": {},
   "source": [
    "# Import Libs"
   ]
  },
  {
   "cell_type": "code",
   "execution_count": null,
   "id": "3124baa7",
   "metadata": {},
   "outputs": [],
   "source": [
    "import config.py\n",
    "import numpy as np\n",
    "import pandas as pd\n",
    "import seaborn as sns\n",
    "import requests\n",
    "import missingno as msno\n",
    "from matplotlib import rc_context\n",
    "from matplotlib import ticker as tick\n",
    "import matplotlib.pyplot as plt\n",
    "import matplotlib.dates as md\n",
    "%matplotlib inline\n",
    "\n",
    "from pylab import *\n",
    "#from pandas_datareader import data\n",
    "#import pandas_datareader.data as web\n",
    "from scipy import stats\n",
    "import datetime as dt\n",
    "import time\n",
    "from datetime import date\n",
    "import pymysql\n",
    "import MySQLdb\n",
    "#import yfinance as yf\n",
    "import warnings\n",
    "warnings.simplefilter(\"ignore\")\n",
    "\n",
    "sns.set(style=\"darkgrid\")\n",
    "import sqlalchemy"
   ]
  },
  {
   "cell_type": "markdown",
   "id": "799bab14",
   "metadata": {},
   "source": [
    "# Constants"
   ]
  },
  {
   "cell_type": "code",
   "execution_count": null,
   "id": "3fee8e3e",
   "metadata": {},
   "outputs": [],
   "source": [
    "S_DATE = '2017-06-01'\n",
    "E_DATE = '2022-03-23'\n",
    "S_DATE_DT = pd.to_datetime(S_DATE)\n",
    "E_DATE_DT = pd.to_datetime(E_DATE)"
   ]
  },
  {
   "cell_type": "code",
   "execution_count": null,
   "id": "8b545d48",
   "metadata": {},
   "outputs": [],
   "source": [
    "fetch_list = ['SPY','BABA','AMZN','AMC','TSLA']"
   ]
  },
  {
   "cell_type": "code",
   "execution_count": null,
   "id": "45e96622",
   "metadata": {},
   "outputs": [],
   "source": [
    "def fetch_yh_api(tickers):\n",
    "    \n",
    "    try:\n",
    "        url = \"https://yh-finance.p.rapidapi.com/stock/v3/get-chart\"\n",
    "\n",
    "        headers = {\n",
    "            'x-rapidapi-host': config.API_HOST,\n",
    "            'x-rapidapi-key': config.API_KEY\n",
    "            }\n",
    "\n",
    "        df_temp = pd.DataFrame(columns=['Symbol','Date','Adj Close','Close','Open','High','Low','Volume'])\n",
    "\n",
    "        for idx, i in enumerate(tickers):\n",
    "            querystring = {\"interval\":\"1d\",\"symbol\":f\"{i}\",\"range\":\"5y\",\"region\":\"US\",\"includePrePost\":\"false\",\"useYfid\":\"true\",\"includeAdjustedClose\":\"true\",\"events\":\"capitalGain,div,split\"}\n",
    "            response = requests.request(\"GET\", url, headers=headers, params=querystring).json()\n",
    "            \n",
    "            time.sleep(1)\n",
    "            print(f\"Retrieving Data for {i} ...\")\n",
    "            for key in response['chart']['result']:\n",
    "                symbol = key['meta']['symbol']\n",
    "                date = key['timestamp']\n",
    "                close = key['indicators']['quote'][0]['close']\n",
    "                low = key['indicators']['quote'][0]['low']\n",
    "                high = key['indicators']['quote'][0]['high']\n",
    "                volume = key['indicators']['quote'][0]['volume']\n",
    "                open_price = key['indicators']['quote'][0]['open']\n",
    "                Adj_Close = key['indicators']['adjclose'][0]['adjclose']\n",
    "                df_temp = df_temp.append({'Symbol':symbol,'Date':date,'Adj Close':Adj_Close,'Close':close,'Open':open_price,'High':high,'Low':low,'Volume':volume}, ignore_index = True)\n",
    "\n",
    "        df_temp = df_temp.apply(pd.Series.explode)\n",
    "        df_temp['Date'] = pd.to_datetime(df_temp['Date'], unit='s').dt.normalize()\n",
    "        df = df_temp.astype({'Symbol':'category','Adj Close':'float64','Close':'float64','Open':'float64','High':'float64','Low':'float64','Volume':'int64'}) \n",
    "    \n",
    "    except Exception as ex:\n",
    "        print(\"Could not retrieve Data from: \", url, \"!Check your J-son keys! or ticker Symbol\")\n",
    "    \n",
    "    else:\n",
    "        return df"
   ]
  },
  {
   "cell_type": "code",
   "execution_count": null,
   "id": "d0f50ef0",
   "metadata": {
    "scrolled": false
   },
   "outputs": [],
   "source": [
    "#yahoo_stocks = fetch_yh_api(fetch_list)\n",
    "#test_amc = fetch_yh_api(['AMC'])"
   ]
  },
  {
   "cell_type": "code",
   "execution_count": null,
   "id": "98a8bed6",
   "metadata": {},
   "outputs": [],
   "source": [
    "def create_table():\n",
    "    engine = sqlalchemy.create_engine(f\"mysql://{config.DB_USER}:{config.DB_PASS}@{config.DB_HOST}:{config.DB_PORT}/{config.DB_NAME}\")\n",
    "    con = engine.connect()\n",
    "    create_table_command = '''\n",
    "                            CREATE TABLE Yahoo (\n",
    "                            Symbol varchar(20),\n",
    "                            Date DATE,\n",
    "                            Adj_Close FLOAT,\n",
    "                            Close FLOAT,\n",
    "                            Open FLOAT,\n",
    "                            High FLOAT,\n",
    "                            Low FLOAT,\n",
    "                            Volume FLOAT,\n",
    "                            PRIMARY KEY (Symbol)\n",
    "                            )'''\n",
    "    con.execute(create_table_command)\n",
    "    con.close()\n",
    "    engine.dispose()"
   ]
  },
  {
   "cell_type": "code",
   "execution_count": null,
   "id": "482de6f3",
   "metadata": {},
   "outputs": [],
   "source": [
    "def update_db(df):\n",
    "    engine = sqlalchemy.create_engine(f\"mysql://{config.DB_USER}:{config.DB_PASS}@{config.DB_HOST}:{config.DB_PORT}/{config.DB_NAME}\")\n",
    "    df.to_sql(f\"{config.DB_NAME}\", engine, if_exists='replace', index = False, chunksize=1000)\n",
    "    engine.dispose()"
   ]
  },
  {
   "cell_type": "code",
   "execution_count": null,
   "id": "bcab8dcb",
   "metadata": {},
   "outputs": [],
   "source": []
  },
  {
   "cell_type": "code",
   "execution_count": null,
   "id": "ebeaf441",
   "metadata": {},
   "outputs": [],
   "source": [
    "update_db(yahoo_stocks)"
   ]
  },
  {
   "cell_type": "code",
   "execution_count": null,
   "id": "5a70dc40",
   "metadata": {},
   "outputs": [],
   "source": [
    "def ticker_query_db(ticker):\n",
    "    engine = sqlalchemy.create_engine(f\"mysql://{config.DB_USER}:{config.DB_PASS}@{config.DB_HOST}:{config.DB_PORT}/{config.DB_NAME}\")\n",
    "    con = engine.connect()\n",
    "    sym_query = f'''SELECT *\n",
    "                FROM Yahoo\n",
    "                WHERE Symbol = '{ticker}';'''\n",
    "    rows = con.execute(sym_query)\n",
    "    ticker = pd.DataFrame(rows.fetchall())\n",
    "    ticker.columns = [x for x in rows._metadata.keys]\n",
    "    con.close()\n",
    "    engine.dispose()\n",
    "    return ticker"
   ]
  },
  {
   "cell_type": "code",
   "execution_count": null,
   "id": "cbe92d6f",
   "metadata": {},
   "outputs": [],
   "source": [
    "df_spy = ticker_query_db('SPY')\n",
    "df_baba = ticker_query_db('BABA')\n",
    "df_amc = ticker_query_db('AMC')\n",
    "df_tsla = ticker_query_db('TSLA')"
   ]
  },
  {
   "cell_type": "code",
   "execution_count": null,
   "id": "e8464e27",
   "metadata": {},
   "outputs": [],
   "source": [
    "def get_summary_stats(df):\n",
    "    pd.set_option('display.expand_frame_repr', False)\n",
    "    print(df.info(),'\\n')\n",
    "    print(df.describe(),'\\n')\n",
    "    print(df.head())"
   ]
  },
  {
   "cell_type": "code",
   "execution_count": null,
   "id": "733e9ee8",
   "metadata": {},
   "outputs": [],
   "source": [
    "get_summary_stats(df_amc)"
   ]
  },
  {
   "cell_type": "markdown",
   "id": "fe0bc5b6",
   "metadata": {},
   "source": [
    "#### Plot daily price/volume change using pandas"
   ]
  },
  {
   "cell_type": "code",
   "execution_count": null,
   "id": "d0d63209",
   "metadata": {},
   "outputs": [],
   "source": [
    "def price_vol_plot(df, name): \n",
    "\n",
    "    fig, ax1 = plt.subplots(sharex=True, sharey=True, figsize=(10, 6))\n",
    "\n",
    "    ax1.grid(False)\n",
    "    sns.lineplot(x= 'Date', y='Volume', data= df, ax= ax1, color= 'g', alpha=0.3, linewidth= .1)\n",
    "    ax1.set_title(name + ' Price Vs Volume', fontsize= 16)\n",
    "    ax1.fill_between(df['Date'].values,0,df['Volume'].values, color='g',alpha=0.3)\n",
    "    ax1.set_ylim([0, ax1.get_ylim()[1] * 3])\n",
    "    ax1.set_xlim([S_DATE_DT, E_DATE_DT])\n",
    "    ax1.set_ylabel('Volume', fontsize=14, color='g', alpha=0.7)\n",
    "\n",
    "\n",
    "    ax2 = ax1.twinx()\n",
    "\n",
    "    sns.lineplot(x= 'Date', y='Adj Close', data= df, ax= ax2, linewidth= .7, color= 'b',)\n",
    "    ax2.set_ylabel('Price', fontsize=14, color='b', alpha=0.7)\n",
    "    ax2.grid(True)\n",
    "\n",
    "    plt.show()"
   ]
  },
  {
   "cell_type": "code",
   "execution_count": null,
   "id": "482e2b04",
   "metadata": {
    "scrolled": false
   },
   "outputs": [],
   "source": [
    "price_vol_plot(df_baba, 'Baba')"
   ]
  },
  {
   "cell_type": "markdown",
   "id": "1f699e9c",
   "metadata": {},
   "source": [
    "#### Plot 20, 50, 200 day MA with the closing prices to estimate current trend\n",
    "The 200-day moving average is considered especially significant in stock trading. As long as the 50-day moving average of a stock price remains above the 200-day moving average, the stock is generally thought to be in a bullish trend. As a general guideline, if the price is above a moving average, the trend is up. If the price is below a moving average, the trend is down. However, moving averages can have different lengths (discussed shortly), so one MA may indicate an uptrend while another MA indicates a downtrend."
   ]
  },
  {
   "cell_type": "code",
   "execution_count": null,
   "id": "84cc19bc",
   "metadata": {},
   "outputs": [],
   "source": [
    "def mov_avg(df, *args, exp=False, name):\n",
    "    fig, ax1 = plt.subplots(figsize=(10,6))\n",
    "    \n",
    "    for idx, ma in enumerate(args):\n",
    "        col = f\"MA_{ma}\" \n",
    "        if exp == True:\n",
    "            df[col] = df['Adj Close'].ewm(span=ma, adjust=False).mean()\n",
    "        else:\n",
    "            df[col] = df['Adj Close'].rolling(window=ma, center=False).mean()     \n",
    "        sns.lineplot(x='Date', y=f\"MA_{args[idx]}\", data=df, ax=ax1, label=str(ma), linewidth= .7)\n",
    "    ax1.set_title(name + ' Moving Average', fontsize= 14)\n",
    "    sns.lineplot(x='Date', y='Adj Close', data=df, ax=ax1, linewidth= .7, linestyle='--')\n",
    "    ax1.set_ylabel('Price', fontsize=14, color='b', alpha=0.7)\n",
    "    ax1.set_xlim([S_DATE_DT, E_DATE_DT])\n",
    "    plt.show()"
   ]
  },
  {
   "cell_type": "code",
   "execution_count": null,
   "id": "e1f864e7",
   "metadata": {},
   "outputs": [],
   "source": [
    "mov_avg(df_baba,20,50,200,exp= True,name=\"Baba\")"
   ]
  },
  {
   "cell_type": "markdown",
   "id": "7e2abe43",
   "metadata": {},
   "source": [
    "#### Daily average return values"
   ]
  },
  {
   "cell_type": "code",
   "execution_count": null,
   "id": "8e88ad51",
   "metadata": {
    "scrolled": true
   },
   "outputs": [],
   "source": [
    "def avg_daily_ret(df):\n",
    "    df['Daily_ret'] = df['Close'].pct_change()\n",
    "    df['Pos/Neg'] = ''\n",
    "\n",
    "    df.loc[(df['Daily_ret'] > 0), 'Pos/Neg'] = 'Above'\n",
    "    df.loc[(df['Daily_ret'] < 0), 'Pos/Neg'] = 'Below'\n",
    "    \n",
    "    nan_value = float(\"NaN\")\n",
    "    df.replace(\"\", nan_value, inplace=True)\n",
    "\n",
    "    df = df.astype({\"Pos/Neg\":'category'})\n",
    "    \n",
    "    fig = plt.figure(figsize=(12, 7))\n",
    "    ax1 = fig.add_subplot(131)\n",
    "    g = sns.scatterplot(x=\"Date\", y=\"Daily_ret\", data=df, ax=ax1)\n",
    "    ax1.set_title('% Change By Date', fontsize= 13)\n",
    "    plt.xticks(rotation=45)\n",
    "\n",
    "    ax2 = fig.add_subplot(132)\n",
    "    g2 = sns.distplot(x=df.Daily_ret, color=\"red\", vertical=True, ax=ax2)\n",
    "    ax2.set_title('% Change KDE', fontsize= 13)\n",
    "    \n",
    "    ax3 = fig.add_subplot(133)\n",
    "    ax3.set(yticklabels=[])\n",
    "    ax3.set_title('Categorical +/-', fontsize= 13)\n",
    "    \n",
    "    my_list = []\n",
    "    for x in range(len(df[\"Pos/Neg\"])):\n",
    "        my_list.append(x)\n",
    "    arr = np.array(my_list)\n",
    "    \n",
    "    g3 = sns.barplot(x=\"Pos/Neg\", y=arr, data=df, ax=ax3, ci=None)\n",
    "    g.axhline(y=0, color =\"black\", linestyle =\"--\")\n",
    "    g2.axhline(y=0, color =\"black\", linestyle =\"--\")\n",
    "    \n",
    "    plt.show()"
   ]
  },
  {
   "cell_type": "code",
   "execution_count": null,
   "id": "aa7184ca",
   "metadata": {},
   "outputs": [],
   "source": [
    "avg_daily_ret(df_baba)"
   ]
  },
  {
   "cell_type": "markdown",
   "id": "eaf7d849",
   "metadata": {},
   "source": [
    "# Bollinger Bands"
   ]
  },
  {
   "cell_type": "markdown",
   "id": "7cbadfb1",
   "metadata": {},
   "source": [
    "So in other words…\n",
    "\n",
    "If the price is near the upper Bollinger Band, it’s considered “expensive” because it is 2 standard deviation above the average (the 20-period moving average).\n",
    "\n",
    "And if the is price near the lower Bollinger Band, it’s considered “cheap” because it’s 2 standard deviation below the average.\n",
    "\n",
    "Volatility is always changing.\n",
    "\n",
    "The markets move from a period of high volatility to low volatility (and vice versa).\n",
    "\n",
    "If you’re a new trader, it can be difficult to identify the volatility of the markets.\n",
    "\n",
    "So, this is where Bollinger Bands can help because it contracts when volatility is low and expands when volatility is high."
   ]
  },
  {
   "cell_type": "code",
   "execution_count": null,
   "id": "7967a5a6",
   "metadata": {},
   "outputs": [],
   "source": [
    "def bollinger(df):\n",
    "\n",
    "    df['middle_band'] = df['Close'].rolling(window=20).mean()\n",
    "    df['upper_band'] = df['middle_band'] + 1.96 * df['Close'].rolling(window=20).std()\n",
    "    df['lower_band'] = df['middle_band'] - 1.96 * df['Close'].rolling(window=20).std()\n",
    "\n",
    "    up = df[df['Close'] >= df['Open']]\n",
    "    down = df[df['Close'] < df['Open']]\n",
    "\n",
    "    fig1, ax1 = plt.subplots(figsize=(12, 7))\n",
    "    width = .5\n",
    "    cola = 'green'\n",
    "    colb = 'red'\n",
    "    colc = 'blue'\n",
    "    \n",
    "    # Bands\n",
    "    sns.lineplot(x='Date', y='middle_band', data=df, color= cola, size=0.1, ax=ax1, linestyle='--', alpha=.7)\n",
    "    sns.lineplot(x='Date', y='upper_band', data=df, color= colc, size=0.1, ax=ax1, alpha=.3)\n",
    "    sns.lineplot(x='Date', y='lower_band', data=df, color= colc, size=0.1, ax=ax1, alpha=.3)\n",
    "    \n",
    "\n",
    "    # Price Increase\n",
    "    plt.bar(up['Date'], up['Close']-up['Open'], width, bottom=up['Open'], color=cola, lw=0)\n",
    "    plt.bar(up['Date'], up['High']-up['Close'], width, bottom=up['Close'], color=cola, lw=0)\n",
    "    plt.bar(up['Date'], up['Low']-up['Open'], width, bottom=up['Open'], color=cola, lw=0)\n",
    "\n",
    "    # Price Decrease\n",
    "    plt.bar(down['Date'], down['Close']-down['Open'], width, bottom=down['Open'], color=colb, lw=0)\n",
    "    plt.bar(down['Date'], down['High']-down['Open'], width, bottom=down['Open'], color=colb, lw=0)\n",
    "    plt.bar(down['Date'], down['Low']-down['Close'],width,bottom=down['Close'], color=colb, lw=0)\n",
    "\n",
    "    ax1.get_legend().remove()\n",
    "    ax1.set_xlim(S_DATE_DT, E_DATE_DT)\n",
    "    plt.title(\"Bollinger Bands\",fontsize=14)\n",
    "    plt.ylabel('')\n",
    "    plt.show()"
   ]
  },
  {
   "cell_type": "code",
   "execution_count": null,
   "id": "077292f9",
   "metadata": {},
   "outputs": [],
   "source": [
    "bollinger(df_baba)"
   ]
  },
  {
   "cell_type": "markdown",
   "id": "9855d12c",
   "metadata": {},
   "source": [
    "#### Correlation Plots"
   ]
  },
  {
   "cell_type": "code",
   "execution_count": null,
   "id": "a5e17fc8",
   "metadata": {},
   "outputs": [],
   "source": [
    "def cor_plot(x,y):\n",
    "\n",
    "    cor_raw = get_dataframe(fetch_list, data = 'Adj Close')\n",
    "    df = cor_raw.reset_index()\n",
    "    df = df.dropna()\n",
    "    temp = df.set_index('Date');\n",
    "    cor_df = temp.pct_change().dropna()\n",
    "    \n",
    "    g = sns.jointplot(x=x,y=y, data=cor_df, kind='reg', height=6)\n",
    "    r, p = stats.pearsonr(cor_df[x], cor_df[y])\n",
    "    g.ax_joint.annotate(f'p = {p:.2e}\\nr = {r:.2f}', xy=(0.1, 0.9), xycoords='axes fraction',\n",
    "                        ha='left', va='center')\n",
    "    \n",
    "    plt.show()\n",
    "\n",
    "    g2 = sns.heatmap(cor_df.corr(), cmap=\"Blues\", annot=True)\n",
    "    plt.show()"
   ]
  },
  {
   "cell_type": "code",
   "execution_count": null,
   "id": "b4f0dfb9",
   "metadata": {
    "scrolled": true
   },
   "outputs": [],
   "source": [
    "cor_plot('df_baba','df_amc')"
   ]
  },
  {
   "cell_type": "code",
   "execution_count": null,
   "id": "ca263fbb",
   "metadata": {},
   "outputs": [],
   "source": [
    "assert False, \"breakpoint\""
   ]
  }
 ],
 "metadata": {
  "kernelspec": {
   "display_name": "Python 3 (ipykernel)",
   "language": "python",
   "name": "python3"
  },
  "language_info": {
   "codemirror_mode": {
    "name": "ipython",
    "version": 3
   },
   "file_extension": ".py",
   "mimetype": "text/x-python",
   "name": "python",
   "nbconvert_exporter": "python",
   "pygments_lexer": "ipython3",
   "version": "3.9.7"
  }
 },
 "nbformat": 4,
 "nbformat_minor": 5
}
